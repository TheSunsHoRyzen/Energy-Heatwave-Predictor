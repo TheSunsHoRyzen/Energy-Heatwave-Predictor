{
 "cells": [
  {
   "cell_type": "code",
   "execution_count": 18,
   "id": "138f13e4-e5cd-435b-9bec-3fe3dab88c57",
   "metadata": {},
   "outputs": [],
   "source": [
    "import numpy as np\n",
    "import pandas as pd\n",
    "import matplotlib.pyplot as plt"
   ]
  },
  {
   "cell_type": "code",
   "execution_count": 19,
   "id": "5eeeb638-574e-48ca-8914-c6b50009f770",
   "metadata": {},
   "outputs": [],
   "source": [
    "import glob\n",
    "import os\n",
    "import pandas as pd\n",
    "\n",
    "# get a list of every CSV in archive/\n",
    "csv_paths = glob.glob(os.path.join(\"archive\", \"*.csv\"))\n",
    "\n",
    "# read and concatenate them\n",
    "df_list = [pd.read_csv(p) for p in csv_paths]\n",
    "df_energy = pd.concat(df_list, ignore_index=True)\n",
    "\n",
    "# now df_energy holds all rows from every file in archive/\n"
   ]
  },
  {
   "cell_type": "code",
   "execution_count": 20,
   "id": "5855aafe-bb97-4026-b66a-b9a1e23cc97c",
   "metadata": {},
   "outputs": [
    {
     "ename": "NameError",
     "evalue": "name 'df' is not defined",
     "output_type": "error",
     "traceback": [
      "\u001b[31m---------------------------------------------------------------------------\u001b[39m",
      "\u001b[31mNameError\u001b[39m                                 Traceback (most recent call last)",
      "\u001b[36mCell\u001b[39m\u001b[36m \u001b[39m\u001b[32mIn[20]\u001b[39m\u001b[32m, line 2\u001b[39m\n\u001b[32m      1\u001b[39m \u001b[38;5;66;03m# each period is 30 minutes, with period-1 = 00:00–00:30\u001b[39;00m\n\u001b[32m----> \u001b[39m\u001b[32m2\u001b[39m df[\u001b[33m'\u001b[39m\u001b[33mdatetime\u001b[39m\u001b[33m'\u001b[39m] = pd.to_datetime(\u001b[43mdf\u001b[49m[\u001b[33m'\u001b[39m\u001b[33mSETTLEMENT_DATE\u001b[39m\u001b[33m'\u001b[39m], \u001b[38;5;28mformat\u001b[39m=\u001b[33m'\u001b[39m\u001b[38;5;132;01m%d\u001b[39;00m\u001b[33m-\u001b[39m\u001b[33m%\u001b[39m\u001b[33mb-\u001b[39m\u001b[33m%\u001b[39m\u001b[33mY\u001b[39m\u001b[33m'\u001b[39m) \\\n\u001b[32m      3\u001b[39m                  + pd.to_timedelta(df[\u001b[33m'\u001b[39m\u001b[33mSETTLEMENT_PERIOD\u001b[39m\u001b[33m'\u001b[39m]*\u001b[32m30\u001b[39m - \u001b[32m30\u001b[39m, unit=\u001b[33m'\u001b[39m\u001b[33mm\u001b[39m\u001b[33m'\u001b[39m)\n",
      "\u001b[31mNameError\u001b[39m: name 'df' is not defined"
     ]
    }
   ],
   "source": [
    "# each period is 30 minutes, with period-1 = 00:00–00:30\n",
    "df['datetime'] = pd.to_datetime(df['SETTLEMENT_DATE'], format='%d-%b-%Y') \\\n",
    "                 + pd.to_timedelta(df['SETTLEMENT_PERIOD']*30 - 30, unit='m')\n"
   ]
  },
  {
   "cell_type": "code",
   "execution_count": 16,
   "id": "3ac996ca-2ae3-481b-82fe-979b1538b093",
   "metadata": {},
   "outputs": [
    {
     "name": "stdout",
     "output_type": "stream",
     "text": [
      "(837040, 19)\n",
      "Index(['SETTLEMENT_DATE', 'SETTLEMENT_PERIOD', 'ND', 'TSD',\n",
      "       'ENGLAND_WALES_DEMAND', 'EMBEDDED_WIND_GENERATION',\n",
      "       'EMBEDDED_WIND_CAPACITY', 'EMBEDDED_SOLAR_GENERATION',\n",
      "       'EMBEDDED_SOLAR_CAPACITY', 'NON_BM_STOR', 'PUMP_STORAGE_PUMPING',\n",
      "       'IFA_FLOW', 'IFA2_FLOW', 'BRITNED_FLOW', 'MOYLE_FLOW', 'EAST_WEST_FLOW',\n",
      "       'NEMO_FLOW', 'NSL_FLOW', 'ELECLINK_FLOW'],\n",
      "      dtype='object')\n"
     ]
    },
    {
     "data": {
      "text/html": [
       "<div>\n",
       "<style scoped>\n",
       "    .dataframe tbody tr th:only-of-type {\n",
       "        vertical-align: middle;\n",
       "    }\n",
       "\n",
       "    .dataframe tbody tr th {\n",
       "        vertical-align: top;\n",
       "    }\n",
       "\n",
       "    .dataframe thead th {\n",
       "        text-align: right;\n",
       "    }\n",
       "</style>\n",
       "<table border=\"1\" class=\"dataframe\">\n",
       "  <thead>\n",
       "    <tr style=\"text-align: right;\">\n",
       "      <th></th>\n",
       "      <th>SETTLEMENT_DATE</th>\n",
       "      <th>SETTLEMENT_PERIOD</th>\n",
       "      <th>ND</th>\n",
       "      <th>TSD</th>\n",
       "      <th>ENGLAND_WALES_DEMAND</th>\n",
       "      <th>EMBEDDED_WIND_GENERATION</th>\n",
       "      <th>EMBEDDED_WIND_CAPACITY</th>\n",
       "      <th>EMBEDDED_SOLAR_GENERATION</th>\n",
       "      <th>EMBEDDED_SOLAR_CAPACITY</th>\n",
       "      <th>NON_BM_STOR</th>\n",
       "      <th>PUMP_STORAGE_PUMPING</th>\n",
       "      <th>IFA_FLOW</th>\n",
       "      <th>IFA2_FLOW</th>\n",
       "      <th>BRITNED_FLOW</th>\n",
       "      <th>MOYLE_FLOW</th>\n",
       "      <th>EAST_WEST_FLOW</th>\n",
       "      <th>NEMO_FLOW</th>\n",
       "      <th>NSL_FLOW</th>\n",
       "      <th>ELECLINK_FLOW</th>\n",
       "    </tr>\n",
       "  </thead>\n",
       "  <tbody>\n",
       "    <tr>\n",
       "      <th>0</th>\n",
       "      <td>01-JAN-2010</td>\n",
       "      <td>1</td>\n",
       "      <td>36453</td>\n",
       "      <td>37593</td>\n",
       "      <td>32391</td>\n",
       "      <td>906</td>\n",
       "      <td>1786</td>\n",
       "      <td>0</td>\n",
       "      <td>0</td>\n",
       "      <td>0</td>\n",
       "      <td>306</td>\n",
       "      <td>1977.0</td>\n",
       "      <td>0.0</td>\n",
       "      <td>0.0</td>\n",
       "      <td>-234.0</td>\n",
       "      <td>0.0</td>\n",
       "      <td>0</td>\n",
       "      <td>NaN</td>\n",
       "      <td>NaN</td>\n",
       "    </tr>\n",
       "    <tr>\n",
       "      <th>1</th>\n",
       "      <td>01-JAN-2010</td>\n",
       "      <td>2</td>\n",
       "      <td>36680</td>\n",
       "      <td>37739</td>\n",
       "      <td>32590</td>\n",
       "      <td>926</td>\n",
       "      <td>1786</td>\n",
       "      <td>0</td>\n",
       "      <td>0</td>\n",
       "      <td>0</td>\n",
       "      <td>223</td>\n",
       "      <td>2000.0</td>\n",
       "      <td>0.0</td>\n",
       "      <td>0.0</td>\n",
       "      <td>-236.0</td>\n",
       "      <td>0.0</td>\n",
       "      <td>0</td>\n",
       "      <td>NaN</td>\n",
       "      <td>NaN</td>\n",
       "    </tr>\n",
       "    <tr>\n",
       "      <th>2</th>\n",
       "      <td>01-JAN-2010</td>\n",
       "      <td>3</td>\n",
       "      <td>36343</td>\n",
       "      <td>37467</td>\n",
       "      <td>32291</td>\n",
       "      <td>926</td>\n",
       "      <td>1786</td>\n",
       "      <td>0</td>\n",
       "      <td>0</td>\n",
       "      <td>0</td>\n",
       "      <td>288</td>\n",
       "      <td>2000.0</td>\n",
       "      <td>0.0</td>\n",
       "      <td>0.0</td>\n",
       "      <td>-236.0</td>\n",
       "      <td>0.0</td>\n",
       "      <td>0</td>\n",
       "      <td>NaN</td>\n",
       "      <td>NaN</td>\n",
       "    </tr>\n",
       "    <tr>\n",
       "      <th>3</th>\n",
       "      <td>01-JAN-2010</td>\n",
       "      <td>4</td>\n",
       "      <td>35362</td>\n",
       "      <td>36489</td>\n",
       "      <td>31366</td>\n",
       "      <td>952</td>\n",
       "      <td>1786</td>\n",
       "      <td>0</td>\n",
       "      <td>0</td>\n",
       "      <td>0</td>\n",
       "      <td>291</td>\n",
       "      <td>2000.0</td>\n",
       "      <td>0.0</td>\n",
       "      <td>0.0</td>\n",
       "      <td>-236.0</td>\n",
       "      <td>0.0</td>\n",
       "      <td>0</td>\n",
       "      <td>NaN</td>\n",
       "      <td>NaN</td>\n",
       "    </tr>\n",
       "    <tr>\n",
       "      <th>4</th>\n",
       "      <td>01-JAN-2010</td>\n",
       "      <td>5</td>\n",
       "      <td>34366</td>\n",
       "      <td>35563</td>\n",
       "      <td>30522</td>\n",
       "      <td>952</td>\n",
       "      <td>1786</td>\n",
       "      <td>0</td>\n",
       "      <td>0</td>\n",
       "      <td>0</td>\n",
       "      <td>361</td>\n",
       "      <td>1999.0</td>\n",
       "      <td>0.0</td>\n",
       "      <td>0.0</td>\n",
       "      <td>-236.0</td>\n",
       "      <td>0.0</td>\n",
       "      <td>0</td>\n",
       "      <td>NaN</td>\n",
       "      <td>NaN</td>\n",
       "    </tr>\n",
       "  </tbody>\n",
       "</table>\n",
       "</div>"
      ],
      "text/plain": [
       "  SETTLEMENT_DATE  SETTLEMENT_PERIOD     ND    TSD  ENGLAND_WALES_DEMAND  \\\n",
       "0     01-JAN-2010                  1  36453  37593                 32391   \n",
       "1     01-JAN-2010                  2  36680  37739                 32590   \n",
       "2     01-JAN-2010                  3  36343  37467                 32291   \n",
       "3     01-JAN-2010                  4  35362  36489                 31366   \n",
       "4     01-JAN-2010                  5  34366  35563                 30522   \n",
       "\n",
       "   EMBEDDED_WIND_GENERATION  EMBEDDED_WIND_CAPACITY  \\\n",
       "0                       906                    1786   \n",
       "1                       926                    1786   \n",
       "2                       926                    1786   \n",
       "3                       952                    1786   \n",
       "4                       952                    1786   \n",
       "\n",
       "   EMBEDDED_SOLAR_GENERATION  EMBEDDED_SOLAR_CAPACITY  NON_BM_STOR  \\\n",
       "0                          0                        0            0   \n",
       "1                          0                        0            0   \n",
       "2                          0                        0            0   \n",
       "3                          0                        0            0   \n",
       "4                          0                        0            0   \n",
       "\n",
       "   PUMP_STORAGE_PUMPING  IFA_FLOW  IFA2_FLOW  BRITNED_FLOW  MOYLE_FLOW  \\\n",
       "0                   306    1977.0        0.0           0.0      -234.0   \n",
       "1                   223    2000.0        0.0           0.0      -236.0   \n",
       "2                   288    2000.0        0.0           0.0      -236.0   \n",
       "3                   291    2000.0        0.0           0.0      -236.0   \n",
       "4                   361    1999.0        0.0           0.0      -236.0   \n",
       "\n",
       "   EAST_WEST_FLOW  NEMO_FLOW  NSL_FLOW  ELECLINK_FLOW  \n",
       "0             0.0          0       NaN            NaN  \n",
       "1             0.0          0       NaN            NaN  \n",
       "2             0.0          0       NaN            NaN  \n",
       "3             0.0          0       NaN            NaN  \n",
       "4             0.0          0       NaN            NaN  "
      ]
     },
     "execution_count": 16,
     "metadata": {},
     "output_type": "execute_result"
    }
   ],
   "source": [
    "print(df_energy.shape)       # how many rows × columns\n",
    "print(df_energy.columns)     # ensure the columns line up across files\n",
    "df_energy.head(5)            # peek at the first few rows\n"
   ]
  },
  {
   "cell_type": "code",
   "execution_count": 5,
   "id": "0fba8152-d56c-4787-91d5-41b8cccc2425",
   "metadata": {},
   "outputs": [
    {
     "name": "stdout",
     "output_type": "stream",
     "text": [
      "Index(['SETTLEMENT_DATE', 'SETTLEMENT_PERIOD', 'ND', 'TSD',\n",
      "       'ENGLAND_WALES_DEMAND', 'EMBEDDED_WIND_GENERATION',\n",
      "       'EMBEDDED_WIND_CAPACITY', 'EMBEDDED_SOLAR_GENERATION',\n",
      "       'EMBEDDED_SOLAR_CAPACITY', 'NON_BM_STOR', 'PUMP_STORAGE_PUMPING',\n",
      "       'IFA_FLOW', 'IFA2_FLOW', 'BRITNED_FLOW', 'MOYLE_FLOW', 'EAST_WEST_FLOW',\n",
      "       'NEMO_FLOW', 'NSL_FLOW', 'ELECLINK_FLOW'],\n",
      "      dtype='object')\n"
     ]
    }
   ],
   "source": [
    "print(df_energy.columns)\n"
   ]
  },
  {
   "cell_type": "code",
   "execution_count": 6,
   "id": "96827704-ed6c-493b-afba-b23944087e33",
   "metadata": {},
   "outputs": [],
   "source": [
    "\n",
    "energy_paths = glob.glob(os.path.join(\"archive\",\"*.csv\"))\n",
    "df_list = [pd.read_csv(p) for p in energy_paths]\n",
    "df_energy = pd.concat(df_list, ignore_index=True)"
   ]
  },
  {
   "cell_type": "code",
   "execution_count": 7,
   "id": "6781a25a-1f1e-4c02-8a60-87e6050c3e04",
   "metadata": {},
   "outputs": [
    {
     "name": "stderr",
     "output_type": "stream",
     "text": [
      "/var/folders/q5/2572jyv55g152n_wkf7s54nm0000gn/T/ipykernel_78247/197542940.py:3: UserWarning: Could not infer format, so each element will be parsed individually, falling back to `dateutil`. To ensure parsing is consistent and as-expected, please specify a format.\n",
      "  df_energy['date'] = pd.to_datetime(df_energy['SETTLEMENT_DATE'], dayfirst=True)\n"
     ]
    }
   ],
   "source": [
    "# your snippet goes here\n",
    "if 'SETTLEMENT_DATE' in df_energy.columns:\n",
    "    df_energy['date'] = pd.to_datetime(df_energy['SETTLEMENT_DATE'], dayfirst=True)\n",
    "elif 'settlement_date' in df_energy.columns:\n",
    "    df_energy['date'] = pd.to_datetime(df_energy['settlement_date'], dayfirst=True)\n",
    "else:\n",
    "    raise KeyError(\"No settlement_date column found in energy data\")\n",
    "\n",
    "df_energy.drop(columns=['SETTLEMENT_DATE','settlement_date'], errors='ignore', inplace=True)\n"
   ]
  },
  {
   "cell_type": "code",
   "execution_count": 8,
   "id": "d7a50ef4-8a20-4c01-9fbe-acd35e3b9865",
   "metadata": {},
   "outputs": [
    {
     "name": "stdout",
     "output_type": "stream",
     "text": [
      "['SETTLEMENT_PERIOD', 'ND', 'TSD', 'ENGLAND_WALES_DEMAND', 'EMBEDDED_WIND_GENERATION', 'EMBEDDED_WIND_CAPACITY', 'EMBEDDED_SOLAR_GENERATION', 'EMBEDDED_SOLAR_CAPACITY', 'NON_BM_STOR', 'PUMP_STORAGE_PUMPING', 'IFA_FLOW', 'IFA2_FLOW', 'BRITNED_FLOW', 'MOYLE_FLOW', 'EAST_WEST_FLOW', 'NEMO_FLOW', 'NSL_FLOW', 'ELECLINK_FLOW', 'date']\n"
     ]
    }
   ],
   "source": [
    "print(df_energy.columns.tolist())\n"
   ]
  },
  {
   "cell_type": "code",
   "execution_count": 9,
   "id": "ceb40fe8-0c45-47ce-9656-df726c04dc4c",
   "metadata": {},
   "outputs": [
    {
     "name": "stdout",
     "output_type": "stream",
     "text": [
      "Index(['date', 'consumption'], dtype='object')\n",
      "        date  consumption\n",
      "0 2010-01-01        32391\n",
      "1 2010-01-01        32590\n",
      "2 2010-01-01        32291\n",
      "3 2010-01-01        31366\n",
      "4 2010-01-01        30522\n"
     ]
    }
   ],
   "source": [
    "# 1) Rename demand → consumption\n",
    "if 'england_wales_demand' in df_energy.columns:\n",
    "    df_energy.rename(columns={'england_wales_demand':'consumption'}, inplace=True)\n",
    "elif 'ENGLAND_WALES_DEMAND' in df_energy.columns:\n",
    "    df_energy.rename(columns={'ENGLAND_WALES_DEMAND':'consumption'}, inplace=True)\n",
    "\n",
    "# 2) Drop duplicate demand + index column\n",
    "df_energy.drop(columns=[\n",
    "    'ENGLAND_WALES_DEMAND',   # upper-case duplicate\n",
    "    'england_wales_demand',   # lower-case original (now renamed)\n",
    "    'Unnamed: 0'              # pandas auto-index from file\n",
    "], errors='ignore', inplace=True)\n",
    "\n",
    "# 3) (Optional) keep only date + consumption\n",
    "df_energy = df_energy[['date','consumption']]\n",
    "\n",
    "# 4) Verify\n",
    "print(df_energy.columns)      # should be ['date','consumption']\n",
    "print(df_energy.head())\n"
   ]
  },
  {
   "cell_type": "code",
   "execution_count": 10,
   "id": "ac4ef13e-d9f6-4b95-bbfe-dd5225df1bfb",
   "metadata": {},
   "outputs": [],
   "source": [
    "# a) First, see which of the two is populated\n",
    "for col in ['ENGLAND_WALES_DEMAND','england_wales_demand']:\n",
    "    if col in df_energy.columns:\n",
    "        print(col, \"→\", df_energy[col].notna().sum(), \"non-null values\")\n"
   ]
  },
  {
   "cell_type": "code",
   "execution_count": 11,
   "id": "e0768a68-88be-4769-828a-66aa944389d2",
   "metadata": {},
   "outputs": [
    {
     "name": "stdout",
     "output_type": "stream",
     "text": [
      "        date  consumption\n",
      "0 2010-01-01          NaN\n",
      "1 2010-01-01          NaN\n",
      "2 2010-01-01          NaN\n",
      "3 2010-01-01          NaN\n",
      "4 2010-01-01          NaN\n",
      "NaNs left in consumption: 837040\n"
     ]
    }
   ],
   "source": [
    "import pandas as pd\n",
    "\n",
    "# potential source columns\n",
    "col_up   = 'ENGLAND_WALES_DEMAND'\n",
    "col_low  = 'england_wales_demand'\n",
    "\n",
    "# pull each if it exists, otherwise create an all‐NaN series\n",
    "s_up  = df_energy[col_up]  if col_up  in df_energy.columns else pd.Series(name='tmp', dtype=float, index=df_energy.index)\n",
    "s_low = df_energy[col_low] if col_low in df_energy.columns else pd.Series(name='tmp', dtype=float, index=df_energy.index)\n",
    "\n",
    "# coalesce into consumption\n",
    "df_energy['consumption'] = s_up.fillna(s_low)\n",
    "\n",
    "# now drop the originals\n",
    "df_energy.drop(columns=[col_up, col_low, 'Unnamed: 0'], errors='ignore', inplace=True)\n",
    "\n",
    "# verify\n",
    "print(df_energy[['date','consumption']].head())\n",
    "print(\"NaNs left in consumption:\", df_energy['consumption'].isna().sum())\n"
   ]
  },
  {
   "cell_type": "code",
   "execution_count": 12,
   "id": "2cb5a474-6788-46f6-b2ab-c7cde6ee748b",
   "metadata": {},
   "outputs": [
    {
     "ename": "KeyError",
     "evalue": "'ENGLAND_WALES_DEMAND'",
     "output_type": "error",
     "traceback": [
      "\u001b[31m---------------------------------------------------------------------------\u001b[39m",
      "\u001b[31mKeyError\u001b[39m                                  Traceback (most recent call last)",
      "\u001b[36mFile \u001b[39m\u001b[32m/Library/Frameworks/Python.framework/Versions/3.13/lib/python3.13/site-packages/pandas/core/indexes/base.py:3812\u001b[39m, in \u001b[36mIndex.get_loc\u001b[39m\u001b[34m(self, key)\u001b[39m\n\u001b[32m   3811\u001b[39m \u001b[38;5;28;01mtry\u001b[39;00m:\n\u001b[32m-> \u001b[39m\u001b[32m3812\u001b[39m     \u001b[38;5;28;01mreturn\u001b[39;00m \u001b[38;5;28;43mself\u001b[39;49m\u001b[43m.\u001b[49m\u001b[43m_engine\u001b[49m\u001b[43m.\u001b[49m\u001b[43mget_loc\u001b[49m\u001b[43m(\u001b[49m\u001b[43mcasted_key\u001b[49m\u001b[43m)\u001b[49m\n\u001b[32m   3813\u001b[39m \u001b[38;5;28;01mexcept\u001b[39;00m \u001b[38;5;167;01mKeyError\u001b[39;00m \u001b[38;5;28;01mas\u001b[39;00m err:\n",
      "\u001b[36mFile \u001b[39m\u001b[32mpandas/_libs/index.pyx:167\u001b[39m, in \u001b[36mpandas._libs.index.IndexEngine.get_loc\u001b[39m\u001b[34m()\u001b[39m\n",
      "\u001b[36mFile \u001b[39m\u001b[32mpandas/_libs/index.pyx:196\u001b[39m, in \u001b[36mpandas._libs.index.IndexEngine.get_loc\u001b[39m\u001b[34m()\u001b[39m\n",
      "\u001b[36mFile \u001b[39m\u001b[32mpandas/_libs/hashtable_class_helper.pxi:7088\u001b[39m, in \u001b[36mpandas._libs.hashtable.PyObjectHashTable.get_item\u001b[39m\u001b[34m()\u001b[39m\n",
      "\u001b[36mFile \u001b[39m\u001b[32mpandas/_libs/hashtable_class_helper.pxi:7096\u001b[39m, in \u001b[36mpandas._libs.hashtable.PyObjectHashTable.get_item\u001b[39m\u001b[34m()\u001b[39m\n",
      "\u001b[31mKeyError\u001b[39m: 'ENGLAND_WALES_DEMAND'",
      "\nThe above exception was the direct cause of the following exception:\n",
      "\u001b[31mKeyError\u001b[39m                                  Traceback (most recent call last)",
      "\u001b[36mCell\u001b[39m\u001b[36m \u001b[39m\u001b[32mIn[12]\u001b[39m\u001b[32m, line 2\u001b[39m\n\u001b[32m      1\u001b[39m \u001b[38;5;66;03m# 1) See which demand column has values\u001b[39;00m\n\u001b[32m----> \u001b[39m\u001b[32m2\u001b[39m \u001b[38;5;28mprint\u001b[39m(\u001b[33m\"\u001b[39m\u001b[33mUpper-case non-null:\u001b[39m\u001b[33m\"\u001b[39m, \u001b[43mdf_energy\u001b[49m\u001b[43m[\u001b[49m\u001b[33;43m'\u001b[39;49m\u001b[33;43mENGLAND_WALES_DEMAND\u001b[39;49m\u001b[33;43m'\u001b[39;49m\u001b[43m]\u001b[49m.notna().sum())\n\u001b[32m      3\u001b[39m \u001b[38;5;28mprint\u001b[39m(\u001b[33m\"\u001b[39m\u001b[33mLower-case non-null:\u001b[39m\u001b[33m\"\u001b[39m, df_energy[\u001b[33m'\u001b[39m\u001b[33mengland_wales_demand\u001b[39m\u001b[33m'\u001b[39m].notna().sum())\n\u001b[32m      5\u001b[39m \u001b[38;5;66;03m# 2) Create consumption from the one that’s populated\u001b[39;00m\n\u001b[32m      6\u001b[39m \u001b[38;5;66;03m# (here we assume the uppercase one has data; flip if it turns out otherwise)\u001b[39;00m\n",
      "\u001b[36mFile \u001b[39m\u001b[32m/Library/Frameworks/Python.framework/Versions/3.13/lib/python3.13/site-packages/pandas/core/frame.py:4107\u001b[39m, in \u001b[36mDataFrame.__getitem__\u001b[39m\u001b[34m(self, key)\u001b[39m\n\u001b[32m   4105\u001b[39m \u001b[38;5;28;01mif\u001b[39;00m \u001b[38;5;28mself\u001b[39m.columns.nlevels > \u001b[32m1\u001b[39m:\n\u001b[32m   4106\u001b[39m     \u001b[38;5;28;01mreturn\u001b[39;00m \u001b[38;5;28mself\u001b[39m._getitem_multilevel(key)\n\u001b[32m-> \u001b[39m\u001b[32m4107\u001b[39m indexer = \u001b[38;5;28;43mself\u001b[39;49m\u001b[43m.\u001b[49m\u001b[43mcolumns\u001b[49m\u001b[43m.\u001b[49m\u001b[43mget_loc\u001b[49m\u001b[43m(\u001b[49m\u001b[43mkey\u001b[49m\u001b[43m)\u001b[49m\n\u001b[32m   4108\u001b[39m \u001b[38;5;28;01mif\u001b[39;00m is_integer(indexer):\n\u001b[32m   4109\u001b[39m     indexer = [indexer]\n",
      "\u001b[36mFile \u001b[39m\u001b[32m/Library/Frameworks/Python.framework/Versions/3.13/lib/python3.13/site-packages/pandas/core/indexes/base.py:3819\u001b[39m, in \u001b[36mIndex.get_loc\u001b[39m\u001b[34m(self, key)\u001b[39m\n\u001b[32m   3814\u001b[39m     \u001b[38;5;28;01mif\u001b[39;00m \u001b[38;5;28misinstance\u001b[39m(casted_key, \u001b[38;5;28mslice\u001b[39m) \u001b[38;5;129;01mor\u001b[39;00m (\n\u001b[32m   3815\u001b[39m         \u001b[38;5;28misinstance\u001b[39m(casted_key, abc.Iterable)\n\u001b[32m   3816\u001b[39m         \u001b[38;5;129;01mand\u001b[39;00m \u001b[38;5;28many\u001b[39m(\u001b[38;5;28misinstance\u001b[39m(x, \u001b[38;5;28mslice\u001b[39m) \u001b[38;5;28;01mfor\u001b[39;00m x \u001b[38;5;129;01min\u001b[39;00m casted_key)\n\u001b[32m   3817\u001b[39m     ):\n\u001b[32m   3818\u001b[39m         \u001b[38;5;28;01mraise\u001b[39;00m InvalidIndexError(key)\n\u001b[32m-> \u001b[39m\u001b[32m3819\u001b[39m     \u001b[38;5;28;01mraise\u001b[39;00m \u001b[38;5;167;01mKeyError\u001b[39;00m(key) \u001b[38;5;28;01mfrom\u001b[39;00m\u001b[38;5;250m \u001b[39m\u001b[34;01merr\u001b[39;00m\n\u001b[32m   3820\u001b[39m \u001b[38;5;28;01mexcept\u001b[39;00m \u001b[38;5;167;01mTypeError\u001b[39;00m:\n\u001b[32m   3821\u001b[39m     \u001b[38;5;66;03m# If we have a listlike key, _check_indexing_error will raise\u001b[39;00m\n\u001b[32m   3822\u001b[39m     \u001b[38;5;66;03m#  InvalidIndexError. Otherwise we fall through and re-raise\u001b[39;00m\n\u001b[32m   3823\u001b[39m     \u001b[38;5;66;03m#  the TypeError.\u001b[39;00m\n\u001b[32m   3824\u001b[39m     \u001b[38;5;28mself\u001b[39m._check_indexing_error(key)\n",
      "\u001b[31mKeyError\u001b[39m: 'ENGLAND_WALES_DEMAND'"
     ]
    }
   ],
   "source": [
    "# 1) See which demand column has values\n",
    "print(\"Upper-case non-null:\", df_energy['ENGLAND_WALES_DEMAND'].notna().sum())\n",
    "print(\"Lower-case non-null:\", df_energy['england_wales_demand'].notna().sum())\n",
    "\n",
    "# 2) Create consumption from the one that’s populated\n",
    "# (here we assume the uppercase one has data; flip if it turns out otherwise)\n",
    "df_energy['consumption'] = df_energy['ENGLAND_WALES_DEMAND']\n",
    "\n",
    "# 3) Drop both originals + the index column\n",
    "df_energy.drop(columns=[\n",
    "    'ENGLAND_WALES_DEMAND',\n",
    "    'england_wales_demand',\n",
    "    'Unnamed: 0'\n",
    "], errors='ignore', inplace=True)\n",
    "\n",
    "# 4) Verify\n",
    "print(df_energy[['date','consumption']].head())\n",
    "print(\"NaNs left in consumption:\", df_energy['consumption'].isna().sum())\n"
   ]
  },
  {
   "cell_type": "code",
   "execution_count": null,
   "id": "677d9352-b13c-4f9f-93de-b785fcb8c0c9",
   "metadata": {},
   "outputs": [],
   "source": [
    "# 1) Re‐make consumption by filling uppercase with lowercase\n",
    "df_energy['consumption'] = (\n",
    "    df_energy['ENGLAND_WALES_DEMAND']\n",
    "      .fillna(df_energy['england_wales_demand'])\n",
    ")\n",
    "\n",
    "# 2) Drop both originals + index\n",
    "df_energy.drop(columns=[\n",
    "    'ENGLAND_WALES_DEMAND',\n",
    "    'england_wales_demand',\n",
    "    'Unnamed: 0'\n",
    "], errors='ignore', inplace=True)\n",
    "\n",
    "# 3) Verify\n",
    "print(df_energy[['date','consumption']].head())\n",
    "print(\"Non-null in consumption:\", df_energy['consumption'].notna().sum())\n",
    "print(\"NaNs left in consumption:\", df_energy['consumption'].isna().sum())\n"
   ]
  },
  {
   "cell_type": "code",
   "execution_count": null,
   "id": "f0a90498-d314-458b-8dbe-b0ade878b510",
   "metadata": {},
   "outputs": [],
   "source": []
  }
 ],
 "metadata": {
  "kernelspec": {
   "display_name": "Python 3 (ipykernel)",
   "language": "python",
   "name": "python3"
  },
  "language_info": {
   "codemirror_mode": {
    "name": "ipython",
    "version": 3
   },
   "file_extension": ".py",
   "mimetype": "text/x-python",
   "name": "python",
   "nbconvert_exporter": "python",
   "pygments_lexer": "ipython3",
   "version": "3.13.2"
  }
 },
 "nbformat": 4,
 "nbformat_minor": 5
}
